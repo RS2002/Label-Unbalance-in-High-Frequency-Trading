{
 "cells": [
  {
   "cell_type": "code",
   "execution_count": 1,
   "metadata": {},
   "outputs": [],
   "source": [
    "import pandas as pd\n",
    "import numpy as np\n",
    "import statsmodels.api as sm\n",
    "from statsmodels.regression.rolling import RollingOLS"
   ]
  },
  {
   "cell_type": "code",
   "execution_count": 2,
   "metadata": {},
   "outputs": [
    {
     "name": "stdout",
     "output_type": "stream",
     "text": [
      "/disk1/imb/202305_all\n"
     ]
    },
    {
     "name": "stderr",
     "output_type": "stream",
     "text": [
      "/home/imb_jy/.local/lib/python3.10/site-packages/IPython/core/magics/osm.py:417: UserWarning: This is now an optional IPython functionality, setting dhist requires you to install the `pickleshare` library.\n",
      "  self.shell.db['dhist'] = compress_dhist(dhist)[-100:]\n"
     ]
    }
   ],
   "source": [
    "cd '/disk1/imb/202305_all'"
   ]
  },
  {
   "cell_type": "code",
   "execution_count": 3,
   "metadata": {},
   "outputs": [
    {
     "name": "stdout",
     "output_type": "stream",
     "text": [
      "data_all_ag2308.csv                     data_all_limit30_rb2310.csv\n",
      "data_all_ag2308_with_factor_all.csv     data_all_limit30_sn2306.csv\n",
      "data_all_ag2308_with_factor_group1.csv  data_all_limit3_ag2308.csv\n",
      "data_all_au2308.csv                     data_all_limit3_au2308.csv\n",
      "data_all_au2308_with_factor_all.csv     data_all_limit3_fu2309.csv\n",
      "data_all_au2308_with_factor_group1.csv  data_all_limit3_ni2306.csv\n",
      "data_all_fu2309.csv                     data_all_limit3_rb2310.csv\n",
      "data_all_fu2309_with_factor_all.csv     data_all_limit3_sn2306.csv\n",
      "data_all_fu2309_with_factor_group1.csv  data_all_ni2306.csv\n",
      "data_all_limit10_ag2308.csv             data_all_ni2306_with_factor_all.csv\n",
      "data_all_limit10_au2308.csv             data_all_ni2306_with_factor_group1.csv\n",
      "data_all_limit10_fu2309.csv             data_all_rb2310.csv\n",
      "data_all_limit10_ni2306.csv             data_all_rb2310_with_factor_all.csv\n",
      "data_all_limit10_rb2310.csv             data_all_rb2310_with_factor_group1.csv\n",
      "data_all_limit10_sn2306.csv             data_all_sn2306.csv\n",
      "data_all_limit30_ag2308.csv             data_all_sn2306_with_factor_all.csv\n",
      "data_all_limit30_au2308.csv             data_all_sn2306_with_factor_group1.csv\n",
      "data_all_limit30_fu2309.csv             data_au.pkl\n",
      "data_all_limit30_ni2306.csv             data.pkl\n"
     ]
    }
   ],
   "source": [
    "ls"
   ]
  },
  {
   "cell_type": "code",
   "execution_count": 4,
   "metadata": {},
   "outputs": [],
   "source": [
    "securities = ['ag2308', 'au2308', 'fu2309', 'ni2306', 'rb2310', 'sn2306']"
   ]
  },
  {
   "cell_type": "code",
   "execution_count": 5,
   "metadata": {},
   "outputs": [
    {
     "name": "stderr",
     "output_type": "stream",
     "text": [
      "/home/imb_jy/.local/lib/python3.10/site-packages/statsmodels/regression/rolling.py:255: RuntimeWarning: divide by zero encountered in scalar divide\n",
      "  s2 = ssr / (nobs - tot_params)\n",
      "/home/imb_jy/.local/lib/python3.10/site-packages/statsmodels/regression/rolling.py:255: RuntimeWarning: divide by zero encountered in scalar divide\n",
      "  s2 = ssr / (nobs - tot_params)\n",
      "/home/imb_jy/.local/lib/python3.10/site-packages/statsmodels/regression/rolling.py:255: RuntimeWarning: divide by zero encountered in scalar divide\n",
      "  s2 = ssr / (nobs - tot_params)\n",
      "/home/imb_jy/.local/lib/python3.10/site-packages/statsmodels/regression/rolling.py:255: RuntimeWarning: divide by zero encountered in scalar divide\n",
      "  s2 = ssr / (nobs - tot_params)\n",
      "/home/imb_jy/.local/lib/python3.10/site-packages/statsmodels/regression/rolling.py:255: RuntimeWarning: divide by zero encountered in scalar divide\n",
      "  s2 = ssr / (nobs - tot_params)\n",
      "/home/imb_jy/.local/lib/python3.10/site-packages/statsmodels/regression/rolling.py:255: RuntimeWarning: divide by zero encountered in scalar divide\n",
      "  s2 = ssr / (nobs - tot_params)\n"
     ]
    }
   ],
   "source": [
    "for security in securities:\n",
    "    file_name = f'data_all_{security}_with_factor_group1.csv'\n",
    "    data = pd.read_csv(file_name)\n",
    "    \n",
    "    # Set the window size to 30 and the last point in the window is excluded from calculations\n",
    "    \n",
    "    # Mean of mid price\n",
    "    data['mid_price_mean'] = data['mid_price'].rolling(30, closed='left').mean()\n",
    "    \n",
    "    # Beta of return per transaction\n",
    "    endog = data['return'].shift(1)\n",
    "    exog = sm.add_constant(data['log_volume'].shift(1))\n",
    "    rols = RollingOLS(endog, exog, window=30)\n",
    "    rres = rols.fit()\n",
    "    data['beta'] = rres.params['log_volume']\n",
    "    \n",
    "    # Illiquidity: absolute value of return divided by log volume\n",
    "    data['illiquidity'] = abs(data['return'].shift(1)) / data['log_volume'].shift(1)\n",
    "    \n",
    "    data.to_csv(f'data_all_{security}_with_factor_all.csv')\n",
    "    "
   ]
  },
  {
   "cell_type": "code",
   "execution_count": null,
   "metadata": {},
   "outputs": [],
   "source": []
  }
 ],
 "metadata": {
  "kernelspec": {
   "display_name": "Python 3",
   "language": "python",
   "name": "python3"
  },
  "language_info": {
   "codemirror_mode": {
    "name": "ipython",
    "version": 3
   },
   "file_extension": ".py",
   "mimetype": "text/x-python",
   "name": "python",
   "nbconvert_exporter": "python",
   "pygments_lexer": "ipython3",
   "version": "3.10.6"
  }
 },
 "nbformat": 4,
 "nbformat_minor": 2
}
