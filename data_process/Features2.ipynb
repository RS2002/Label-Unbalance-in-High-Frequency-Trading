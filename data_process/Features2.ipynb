{
 "cells": [
  {
   "cell_type": "code",
   "execution_count": 7,
   "metadata": {},
   "outputs": [],
   "source": [
    "import pandas as pd\n",
    "import numpy as np\n",
    "import os\n",
    "import pickle\n",
    "import statsmodels.api as sm\n",
    "from sklearn.metrics import mean_squared_error, mean_absolute_error\n",
    "import matplotlib.pyplot as plt"
   ]
  },
  {
   "cell_type": "markdown",
   "metadata": {},
   "source": [
    "### 因子构建"
   ]
  },
  {
   "cell_type": "code",
   "execution_count": null,
   "metadata": {},
   "outputs": [],
   "source": [
    "futures_type_list = ['rb2310', 'ag2308', 'fu2309', 'ni2306', 'sn2306', 'au2308']\n",
    "\n",
    "n, n2 = 60, 600\n",
    "for futures_type in futures_type_list:\n",
    "    df_name = f\"data_all_{futures_type}\"\n",
    "    df = pd.read_csv(f'/disk1/imb/202305_all/{df_name}.csv')\n",
    "\n",
    "    df['mid_price_skew'] = df['mid_price'].rolling(n, min_periods=int(1 / 2 * (n + 1))).skew().shift(periods=1)\n",
    "    df['mid_price_kurt'] = df['mid_price'].rolling(n, min_periods=int(1 / 2 * (n + 1))).kurt().shift(periods=1)\n",
    "    df['mid_price_std'] = df['mid_price'].rolling(n, min_periods=int(1 / 2 * (n + 1))).std().shift(periods=1)\n",
    "\n",
    "    df['volume_pct'] = (df['log_volume'].rolling(n).sum() / df['log_volume'].rolling(n2).sum()).shift(periods=1)\n",
    "    df['volume_pct'] =df['volume_pct'].ffill()  # df['volume_pct'].fillna(method='ffill', inplace=True)\n",
    "    df['prop_quoted_spread'] = ((df['diff_ask_price1']-df['diff_bid_price1'])/df['mid_price']).shift(periods=1)\n",
    "\n",
    "    df_name_to_write = f\"{df_name}_with_factor_group1\"\n",
    "    df.to_csv(f'/disk1/imb/202305_all/{df_name_to_write}.csv', index=False)"
   ]
  },
  {
   "cell_type": "markdown",
   "metadata": {},
   "source": [
    "### 因子效果检测"
   ]
  },
  {
   "cell_type": "markdown",
   "metadata": {},
   "source": [
    "f8: factor_cols = ['mid_price_skew', 'mid_price_kurt', 'mid_price_std', 'volume_pct', 'prop_quoted_spread', 'mid_price_mean', 'beta', 'illiquidity']  \n",
    "f7: factor_cols = ['mid_price_skew', 'mid_price_kurt', 'mid_price_std', 'volume_pct', 'prop_quoted_spread', 'mid_price_mean', 'beta']  "
   ]
  },
  {
   "cell_type": "markdown",
   "metadata": {},
   "source": [
    "#### f8 绘图"
   ]
  },
  {
   "cell_type": "code",
   "execution_count": null,
   "metadata": {},
   "outputs": [],
   "source": [
    "futures_type_list = ['rb2310', 'ag2308', 'fu2309', 'ni2306', 'sn2306', 'au2308']\n",
    "column_list = ['R2', 'MSE', 'MAE']\n",
    "\n",
    "df_results = pd.DataFrame(index=futures_type_list, columns=column_list)\n",
    "\n",
    "for futures_type in futures_type_list:\n",
    "    df_name = f\"data_all_{futures_type}_with_factor_all\"\n",
    "    df = pd.read_csv(f'/disk1/imb/202305_all/{df_name}.csv')\n",
    "    sub_df = df[['TimeStamp', 'mid_price_skew', 'mid_price_kurt', 'mid_price_std', 'volume_pct', 'prop_quoted_spread', 'mid_price_mean', 'beta', 'illiquidity', 'return']]\n",
    "    \n",
    "    # 缺失值处理\n",
    "    sub_df['illiquidity'] = sub_df['illiquidity'].replace([np.nan, np.inf, -np.inf], 0)\n",
    "    sub_df.dropna(inplace=True)\n",
    "    \n",
    "    # 提取自变量和因变量\n",
    "    factor_cols = ['mid_price_skew', 'mid_price_kurt', 'mid_price_std', 'volume_pct', 'prop_quoted_spread', 'mid_price_mean', 'beta', 'illiquidity']\n",
    "    X = sub_df[factor_cols]\n",
    "    y = sub_df['return']\n",
    "    \n",
    "    # 添加常数列（截距项）\n",
    "    X = sm.add_constant(X)\n",
    "    # 执行线性回归\n",
    "    model = sm.OLS(y, X, missing='drop').fit()\n",
    "    \n",
    "    # 预测因变量\n",
    "    y_pred = model.predict(X)\n",
    "\n",
    "    # 计算 x * y:\n",
    "    factor_cols_multiply = [f\"{factor_col}_dot_return\" for factor_col in factor_cols] + [\"pred_return_dot_return\"]\n",
    "    df_multiply = pd.DataFrame(index=X.index, columns=factor_cols_multiply)\n",
    "    for factor_col in factor_cols:\n",
    "        df_multiply[f\"{factor_col}_dot_return\"] = (X[factor_col] * y).cumsum()\n",
    "    df_multiply[\"pred_return_dot_return\"] = (y_pred * y).cumsum()\n",
    "    # print(df_multiply)\n",
    "\n",
    "    fig, axs = plt.subplots(3, 3, figsize=(10, 10))\n",
    "    fig_name = f'fig_xm_f8_{futures_type}'\n",
    "    fig.suptitle(fig_name)\n",
    "\n",
    "    # 绘制每个子图中的数据\n",
    "    for i, ax in enumerate(axs.flatten()):\n",
    "        col_name = df_multiply.columns[i]\n",
    "        ax.plot(df_multiply.index, df_multiply[col_name])\n",
    "        ax.set_title(col_name)\n",
    "        ax.grid(True)\n",
    "    \n",
    "    # 调整布局\n",
    "    plt.tight_layout()\n",
    "    plt.savefig(f'/disk1/imb/202305_figure/{fig_name}.png')\n",
    "    plt.show()    \n"
   ]
  },
  {
   "cell_type": "markdown",
   "metadata": {},
   "source": [
    "#### f7 绘图"
   ]
  },
  {
   "cell_type": "code",
   "execution_count": null,
   "metadata": {},
   "outputs": [],
   "source": [
    "# f7 绘图\n",
    "futures_type_list = ['rb2310', 'ag2308', 'fu2309', 'ni2306', 'sn2306', 'au2308']\n",
    "column_list = ['R2', 'MSE', 'MAE']\n",
    "\n",
    "df_results = pd.DataFrame(index=futures_type_list, columns=column_list)\n",
    "\n",
    "for futures_type in futures_type_list:\n",
    "    df_name = f\"data_all_{futures_type}_with_factor_all\"\n",
    "    df = pd.read_csv(f'/disk1/imb/202305_all/{df_name}.csv')\n",
    "    sub_df = df[['TimeStamp', 'mid_price_skew', 'mid_price_kurt', 'mid_price_std', 'volume_pct', 'prop_quoted_spread', 'mid_price_mean', 'beta', 'return']]\n",
    "    \n",
    "    # 缺失值处理\n",
    "    # sub_df['illiquidity'] = sub_df['illiquidity'].replace([np.nan, np.inf, -np.inf], 0)\n",
    "    sub_df.dropna(inplace=True)\n",
    "    \n",
    "    # 提取自变量和因变量\n",
    "    factor_cols = ['mid_price_skew', 'mid_price_kurt', 'mid_price_std', 'volume_pct', 'prop_quoted_spread', 'mid_price_mean', 'beta']\n",
    "    X = sub_df[factor_cols]\n",
    "    y = sub_df['return']\n",
    "    \n",
    "    # 添加常数列（截距项）\n",
    "    X = sm.add_constant(X)\n",
    "    # 执行线性回归\n",
    "    model = sm.OLS(y, X, missing='drop').fit()\n",
    "    \n",
    "    # 预测因变量\n",
    "    y_pred = model.predict(X)\n",
    "\n",
    "    # 计算 x * y:\n",
    "    factor_cols_multiply = [f\"{factor_col}_dot_return\" for factor_col in factor_cols] + [\"pred_return_dot_return\"]\n",
    "    df_multiply = pd.DataFrame(index=X.index, columns=factor_cols_multiply)\n",
    "    for factor_col in factor_cols:\n",
    "        df_multiply[f\"{factor_col}_dot_return\"] = (X[factor_col] * y).cumsum()\n",
    "    df_multiply[\"pred_return_dot_return\"] = (y_pred * y).cumsum()\n",
    "    # print(df_multiply)\n",
    "\n",
    "    fig, axs = plt.subplots(2, 4, figsize=(15, 8))\n",
    "    fig_name = f'fig_xm_f7_{futures_type}'\n",
    "    fig.suptitle(fig_name)\n",
    "\n",
    "    # 绘制每个子图中的数据\n",
    "    for i, ax in enumerate(axs.flatten()):\n",
    "        col_name = df_multiply.columns[i]\n",
    "        ax.plot(df_multiply.index, df_multiply[col_name])\n",
    "        ax.set_title(col_name)\n",
    "        ax.grid(True)\n",
    "    \n",
    "    # 调整布局\n",
    "    plt.tight_layout()\n",
    "    plt.savefig(f'/disk1/imb/202305_figure/{fig_name}.png')\n",
    "    plt.show()    \n"
   ]
  },
  {
   "cell_type": "markdown",
   "metadata": {},
   "source": [
    "#### f8: 统计量计算  算R2, MSE, MAE等"
   ]
  },
  {
   "cell_type": "code",
   "execution_count": null,
   "metadata": {},
   "outputs": [],
   "source": [
    "futures_type_list = ['rb2310', 'ag2308', 'fu2309', 'ni2306', 'sn2306', 'au2308']\n",
    "column_list = ['R2', 'MSE', 'MAE']\n",
    "\n",
    "df_results = pd.DataFrame(index=futures_type_list, columns=column_list)\n",
    "\n",
    "for futures_type in futures_type_list:\n",
    "    df_name = f\"data_all_{futures_type}_with_factor_all\"\n",
    "    df = pd.read_csv(f'/disk1/imb/202305_all/{df_name}.csv')\n",
    "    sub_df = df[['TimeStamp', 'mid_price_skew', 'mid_price_kurt', 'mid_price_std', 'volume_pct', 'prop_quoted_spread', 'mid_price_mean', 'beta', 'illiquidity', 'return']]\n",
    "    \n",
    "    # 缺失值处理\n",
    "    sub_df['illiquidity'] = sub_df['illiquidity'].replace([np.nan, np.inf, -np.inf], 0)\n",
    "    sub_df.dropna(inplace=True)\n",
    "    \n",
    "    # 提取自变量和因变量\n",
    "    X = sub_df[['mid_price_skew', 'mid_price_kurt', 'mid_price_std', 'volume_pct', 'prop_quoted_spread', 'mid_price_mean', 'beta', 'illiquidity']]\n",
    "    y = sub_df['return']\n",
    "    \n",
    "    # 添加常数列（截距项）\n",
    "    X = sm.add_constant(X)\n",
    "    # 执行线性回归\n",
    "    model = sm.OLS(y, X, missing='drop').fit()\n",
    "    \n",
    "    # 计算R^2\n",
    "    r_squared = model.rsquared\n",
    "    # 预测因变量\n",
    "    y_pred = model.predict(X)\n",
    "    # 计算均方误差（MSE）\n",
    "    mse = mean_squared_error(y, y_pred)\n",
    "    # 计算平均绝对误差（MAE）\n",
    "    mae = mean_absolute_error(y, y_pred)\n",
    "\n",
    "    df_results.loc[futures_type, 'R2'] = r_squared\n",
    "    df_results.loc[futures_type, 'MSE'] = mse\n",
    "    df_results.loc[futures_type, 'MAE'] = mae\n",
    "print(df_results)"
   ]
  },
  {
   "cell_type": "markdown",
   "metadata": {},
   "source": [
    "#### f7: 统计量计算  算R2, MSE, MAE等"
   ]
  },
  {
   "cell_type": "code",
   "execution_count": null,
   "metadata": {},
   "outputs": [],
   "source": [
    "# f7: 统计量计算\n",
    "futures_type_list = ['rb2310', 'ag2308', 'fu2309', 'ni2306', 'sn2306', 'au2308']\n",
    "column_list = ['R2', 'MSE', 'MAE']\n",
    "\n",
    "df_results = pd.DataFrame(index=futures_type_list, columns=column_list)\n",
    "\n",
    "\n",
    "for futures_type in futures_type_list:\n",
    "    # 数据读取\n",
    "    df_name = f\"data_all_{futures_type}_with_factor_all\"\n",
    "    df = pd.read_csv(f'/disk1/imb/202305_all/{df_name}.csv')\n",
    "    sub_df = df[['TimeStamp', 'mid_price_skew', 'mid_price_kurt', 'mid_price_std', 'volume_pct', 'prop_quoted_spread', 'mid_price_mean', 'beta', 'return']]\n",
    "\n",
    "    # 缺失值处理\n",
    "    # sub_df['illiquidity'] = sub_df['illiquidity'].replace([np.nan, np.inf, -np.inf], 0)\n",
    "    sub_df.dropna(inplace=True)\n",
    "    \n",
    "    # 提取自变量和因变量\n",
    "    X = sub_df[['mid_price_skew', 'mid_price_kurt', 'mid_price_std', 'volume_pct', 'prop_quoted_spread', 'mid_price_mean', 'beta']]\n",
    "    y = sub_df['return']\n",
    "\n",
    "    # 添加常数列（截距项）\n",
    "    X = sm.add_constant(X)\n",
    "    # 执行线性回归\n",
    "    model = sm.OLS(y, X, missing='drop').fit()\n",
    "    \n",
    "    # 计算R^2\n",
    "    r_squared = model.rsquared\n",
    "    # 预测因变量\n",
    "    y_pred = model.predict(X)\n",
    "    # 计算均方误差（MSE）\n",
    "    mse = mean_squared_error(y, y_pred)\n",
    "    # 计算平均绝对误差（MAE）\n",
    "    mae = mean_absolute_error(y, y_pred)\n",
    "\n",
    "    df_results.loc[futures_type, 'R2'] = r_squared\n",
    "    df_results.loc[futures_type, 'MSE'] = mse\n",
    "    df_results.loc[futures_type, 'MAE'] = mae\n",
    "\n",
    "    print(1)\n",
    "\n",
    "print(df_results)"
   ]
  }
 ],
 "metadata": {
  "kernelspec": {
   "display_name": "Python 3",
   "language": "python",
   "name": "python3"
  },
  "language_info": {
   "codemirror_mode": {
    "name": "ipython",
    "version": 3
   },
   "file_extension": ".py",
   "mimetype": "text/x-python",
   "name": "python",
   "nbconvert_exporter": "python",
   "pygments_lexer": "ipython3",
   "version": "3.8.3"
  }
 },
 "nbformat": 4,
 "nbformat_minor": 4
}
